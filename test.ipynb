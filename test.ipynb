{
 "cells": [
  {
   "metadata": {
    "jupyter": {
     "is_executing": true
    },
    "ExecuteTime": {
     "start_time": "2025-07-20T06:37:58.118164Z"
    }
   },
   "cell_type": "code",
   "source": [
    "import torch\n",
    "from transformers import BitsAndBytesConfig\n",
    "import warnings\n",
    "warnings.filterwarnings(\"ignore\", category=FutureWarning)\n",
    "warnings.filterwarnings(\"ignore\", message=\"Failed to load image Python extension.*\")\n",
    "\n",
    "from transformers import AutoModelForCausalLM, AutoTokenizer\n",
    "from CustomTextStreamer import CustomTextStreamer, generate_stream\n",
    "\n",
    "Q_config = BitsAndBytesConfig(\n",
    "    load_in_4bit=True,\n",
    "    bnb_4bit_quant_type=\"nf4\",\n",
    "    bnb_4bit_use_double_quant=True,\n",
    "    bnb_4bit_compute_dtype=torch.bfloat16,\n",
    ")\n",
    "device = \"cuda\" if torch.cuda.is_available() else \"cpu\"\n",
    "print(device)\n",
    "model_name = \"../dl_models/Qwen3-8B\"\n",
    "tokenizer = AutoTokenizer.from_pretrained(model_name)\n",
    "model = AutoModelForCausalLM.from_pretrained(\n",
    "    model_name,\n",
    "    quantization_config=Q_config,\n",
    "    # attn_implementation=\"flash_attention_2\"\n",
    ")\n",
    "# model = model.to_bettertransformer()\n",
    "model.to(device)\n",
    "if tokenizer.pad_token is None:\n",
    "    tokenizer.pad_token = tokenizer.eos_token\n",
    "tokenizer.pad_token_id = tokenizer.eos_token_id\n",
    "\n",
    "initial_messages = []\n",
    "messages = initial_messages.copy()\n",
    "enable_thinking = True\n",
    "skip_prompt=True\n",
    "skip_special_tokens=True\n",
    "\n",
    "while True:\n",
    "    user_input = input(\"User: \").strip()\n",
    "    if user_input.lower() == \"/exit\":\n",
    "        print(\"Exiting chat.\")\n",
    "        break\n",
    "    if user_input.lower() == \"/clear\":\n",
    "        messages = initial_messages.copy()\n",
    "        print(\"Chat history cleared. Starting a new conversation.\")\n",
    "        continue\n",
    "    if user_input.lower() == \"/no_think\":\n",
    "        if enable_thinking:\n",
    "            enable_thinking = False\n",
    "            print(\"Thinking = False.\")\n",
    "        else:\n",
    "            enable_thinking = True\n",
    "            print(\"Thinking = True.\")\n",
    "        continue\n",
    "    if user_input.lower() == \"/skip_prompt\":\n",
    "        if skip_prompt:\n",
    "            skip_prompt = False\n",
    "            print(\"skip_prompt = False.\")\n",
    "        else:\n",
    "            skip_prompt = True\n",
    "            print(\"skip_prompt = True.\")\n",
    "        continue\n",
    "    if user_input.lower() == \"/skip_special_tokens\":\n",
    "        if skip_special_tokens:\n",
    "            skip_special_tokens = False\n",
    "            print(\"skip_special_tokens = False.\")\n",
    "        else:\n",
    "            skip_special_tokens = True\n",
    "            print(\"skip_special_tokens = True.\")\n",
    "        continue\n",
    "    if not user_input:\n",
    "        print(\"Input cannot be empty. Please enter something.\")\n",
    "        continue\n",
    "    messages.append({\"role\": \"user\", \"content\": user_input})\n",
    "    response, stop_flag = generate_stream(model, tokenizer, messages, enable_thinking, skip_prompt, skip_special_tokens, 8192)\n",
    "    print(\"\", flush=True)\n",
    "    if stop_flag:\n",
    "        continue\n",
    "    messages.append({\"role\": \"assistant\", \"content\": response})"
   ],
   "id": "initial_id",
   "outputs": [
    {
     "name": "stdout",
     "output_type": "stream",
     "text": [
      "cuda\n"
     ]
    },
    {
     "data": {
      "text/plain": [
       "Loading checkpoint shards:   0%|          | 0/5 [00:00<?, ?it/s]"
      ],
      "application/vnd.jupyter.widget-view+json": {
       "version_major": 2,
       "version_minor": 0,
       "model_id": "85e94873925b4ae2a2de13d561ff714f"
      }
     },
     "metadata": {},
     "output_type": "display_data"
    },
    {
     "name": "stdout",
     "output_type": "stream",
     "text": [
      "Response: <think>\n",
      "好的，用户发来“你好”，我需要友好回应。首先，确认用户的需求，可能只是打招呼，或者有后续问题。保持自然，用中文回应，避免机械感。可以加入表情符号让对话更生动。然后，引导用户提问或表达需求，比如询问是否需要帮助。注意语气要亲切，符合中文交流习惯。检查是否有拼写错误，确保回复流畅。最后，等待用户进一步互动。\n",
      "</think>\n",
      "\n",
      "你好呀！😊 今天过得怎么样呀？有什么我可以帮你的吗？\n"
     ]
    }
   ],
   "execution_count": null
  },
  {
   "metadata": {},
   "cell_type": "code",
   "source": "",
   "id": "57d68194cf590d1f",
   "outputs": [],
   "execution_count": null
  },
  {
   "cell_type": "code",
   "id": "376ef342",
   "metadata": {},
   "source": [
    "exit(0)"
   ],
   "outputs": [],
   "execution_count": null
  },
  {
   "cell_type": "code",
   "id": "9a1bd7fd",
   "metadata": {},
   "source": [],
   "outputs": [],
   "execution_count": null
  },
  {
   "cell_type": "code",
   "id": "40814eaa",
   "metadata": {},
   "source": [],
   "outputs": [],
   "execution_count": null
  }
 ],
 "metadata": {
  "kernelspec": {
   "display_name": "Python [conda env:base] *",
   "language": "python",
   "name": "conda-base-py"
  },
  "language_info": {
   "codemirror_mode": {
    "name": "ipython",
    "version": 3
   },
   "file_extension": ".py",
   "mimetype": "text/x-python",
   "name": "python",
   "nbconvert_exporter": "python",
   "pygments_lexer": "ipython3",
   "version": "3.9.13"
  }
 },
 "nbformat": 4,
 "nbformat_minor": 5
}
