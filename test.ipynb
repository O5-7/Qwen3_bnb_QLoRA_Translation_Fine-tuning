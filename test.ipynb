{
 "cells": [
  {
   "cell_type": "code",
   "id": "initial_id",
   "metadata": {
    "jupyter": {
     "is_executing": true
    },
    "ExecuteTime": {
     "start_time": "2025-06-13T15:03:55.933882Z"
    }
   },
   "source": [
    "import torch\n",
    "from transformers import BitsAndBytesConfig\n",
    "import warnings\n",
    "warnings.filterwarnings(\"ignore\", category=FutureWarning)\n",
    "warnings.filterwarnings(\"ignore\", message=\"Failed to load image Python extension.*\")\n",
    "\n",
    "from transformers import AutoModelForCausalLM, AutoTokenizer\n",
    "from CustomTextStreamer import CustomTextStreamer, generate_stream\n",
    "\n",
    "Q_config = BitsAndBytesConfig(\n",
    "    load_in_4bit=True,\n",
    "    bnb_4bit_quant_type=\"nf4\",\n",
    "    bnb_4bit_use_double_quant=True,\n",
    "    bnb_4bit_compute_dtype=torch.bfloat16,\n",
    ")\n",
    "device = \"cuda\" if torch.cuda.is_available() else \"cpu\"\n",
    "print(device)\n",
    "model_name = \"../dl_models/Qwen3-1.7B-FP8\"\n",
    "tokenizer = AutoTokenizer.from_pretrained(model_name)\n",
    "model = AutoModelForCausalLM.from_pretrained(\n",
    "    model_name,\n",
    "    # quantization_config=Q_config,\n",
    "    # attn_implementation=\"flash_attention_2\"\n",
    ")\n",
    "# model = model.to_bettertransformer()\n",
    "model.to(device)\n",
    "if tokenizer.pad_token is None:\n",
    "    tokenizer.pad_token = tokenizer.eos_token\n",
    "tokenizer.pad_token_id = tokenizer.eos_token_id\n",
    "\n",
    "initial_messages = []\n",
    "messages = initial_messages.copy()\n",
    "enable_thinking = True\n",
    "skip_prompt=True\n",
    "skip_special_tokens=True\n",
    "\n",
    "while True:\n",
    "    user_input = input(\"User: \").strip()\n",
    "    if user_input.lower() == \"/exit\":\n",
    "        print(\"Exiting chat.\")\n",
    "        break\n",
    "    if user_input.lower() == \"/clear\":\n",
    "        messages = initial_messages.copy()\n",
    "        print(\"Chat history cleared. Starting a new conversation.\")\n",
    "        continue\n",
    "    if user_input.lower() == \"/no_think\":\n",
    "        if enable_thinking:\n",
    "            enable_thinking = False\n",
    "            print(\"Thinking = False.\")\n",
    "        else:\n",
    "            enable_thinking = True\n",
    "            print(\"Thinking = True.\")\n",
    "        continue\n",
    "    if user_input.lower() == \"/skip_prompt\":\n",
    "        if skip_prompt:\n",
    "            skip_prompt = False\n",
    "            print(\"skip_prompt = False.\")\n",
    "        else:\n",
    "            skip_prompt = True\n",
    "            print(\"skip_prompt = True.\")\n",
    "        continue\n",
    "    if user_input.lower() == \"/skip_special_tokens\":\n",
    "        if skip_special_tokens:\n",
    "            skip_special_tokens = False\n",
    "            print(\"skip_special_tokens = False.\")\n",
    "        else:\n",
    "            skip_special_tokens = True\n",
    "            print(\"skip_special_tokens = True.\")\n",
    "        continue\n",
    "    if not user_input:\n",
    "        print(\"Input cannot be empty. Please enter something.\")\n",
    "        continue\n",
    "    messages.append({\"role\": \"user\", \"content\": user_input})\n",
    "    response, stop_flag = generate_stream(model, tokenizer, messages, enable_thinking, skip_prompt, skip_special_tokens, 8192)\n",
    "    print(\"\", flush=True)\n",
    "    if stop_flag:\n",
    "        continue\n",
    "    messages.append({\"role\": \"assistant\", \"content\": response})"
   ],
   "outputs": [
    {
     "name": "stdout",
     "output_type": "stream",
     "text": [
      "cuda\n"
     ]
    },
    {
     "name": "stderr",
     "output_type": "stream",
     "text": [
      "You have loaded an FP8 model on CPU and have a CUDA device available, make sure to set your model on a GPU device in order to run your model. To remove this warning, pass device_map = 'cuda'. \n"
     ]
    },
    {
     "name": "stdout",
     "output_type": "stream",
     "text": [
      "Response: <think>\n",
      "好的，用户发来的是“你好”，这是一个简单的问候语。我需要回应，保持友好和开放的态度。首先，确认用户是否需要帮助，然后提供一些基本的互动方式。同时，要避免使用过于复杂的术语，保持对话的自然流畅。还要"
     ]
    }
   ],
   "execution_count": null
  },
  {
   "metadata": {},
   "cell_type": "code",
   "outputs": [],
   "execution_count": null,
   "source": "",
   "id": "57d68194cf590d1f"
  },
  {
   "cell_type": "code",
   "id": "376ef342",
   "metadata": {
    "ExecuteTime": {
     "end_time": "2025-06-13T15:03:50.305474Z",
     "start_time": "2025-06-13T15:03:50.302824Z"
    }
   },
   "source": [
    "exit(0)"
   ],
   "outputs": [],
   "execution_count": 3
  },
  {
   "cell_type": "code",
   "id": "9a1bd7fd",
   "metadata": {},
   "source": [],
   "outputs": [],
   "execution_count": null
  },
  {
   "cell_type": "code",
   "id": "40814eaa",
   "metadata": {},
   "source": [],
   "outputs": [],
   "execution_count": null
  }
 ],
 "metadata": {
  "kernelspec": {
   "display_name": "Python [conda env:base] *",
   "language": "python",
   "name": "conda-base-py"
  },
  "language_info": {
   "codemirror_mode": {
    "name": "ipython",
    "version": 3
   },
   "file_extension": ".py",
   "mimetype": "text/x-python",
   "name": "python",
   "nbconvert_exporter": "python",
   "pygments_lexer": "ipython3",
   "version": "3.9.13"
  }
 },
 "nbformat": 4,
 "nbformat_minor": 5
}
