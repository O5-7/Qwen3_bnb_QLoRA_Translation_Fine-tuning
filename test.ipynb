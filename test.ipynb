{
 "cells": [
  {
   "cell_type": "code",
   "execution_count": null,
   "id": "initial_id",
   "metadata": {
    "jupyter": {
     "is_executing": true
    }
   },
   "outputs": [
    {
     "name": "stderr",
     "output_type": "stream",
     "text": [
      "d:\\anaconda3\\lib\\site-packages\\torchvision\\io\\image.py:13: UserWarning: Failed to load image Python extension: '[WinError 127] 找不到指定的程序。'If you don't plan on using image functionality from `torchvision.io`, you can ignore this warning. Otherwise, there might be something wrong with your environment. Did you have `libjpeg` or `libpng` installed before building `torchvision` from source?\n",
      "  warn(\n"
     ]
    },
    {
     "data": {
      "application/vnd.jupyter.widget-view+json": {
       "model_id": "62edf39c2c5741f08849ef65845179ff",
       "version_major": 2,
       "version_minor": 0
      },
      "text/plain": [
       "Loading checkpoint shards:   0%|          | 0/2 [00:00<?, ?it/s]"
      ]
     },
     "metadata": {},
     "output_type": "display_data"
    },
    {
     "name": "stdout",
     "output_type": "stream",
     "text": [
      "User: 翻译： no \"My my. It appears that the class may be turning against me. This outfit is even more cursed than I thought.\" f \"Nodoka...telling them would be a step in the right direction. It’s a chance to show everyone you {i}do{/i} have a heart. \" no \"It’s {i}because{/i} I have a heart that happened at all. If I were the emotionless heathen I’m made out to be, I never would have pried in the first place.\"\n",
      "Response: <think>\n",
      "好的，用户给了一个需要翻译的英文段落，看起来像是对话中的部分，可能来自某个小说或游戏的对话。首先，我需要仔细理解每个句子的意思和语气。\n",
      "\n",
      "第一句是：“no 'My my. It appears that the class may be turning against me. This outfit is even more cursed than I thought.' f \"Nodoka...telling them would be a step in the right direction. It’s a chance to show everyone you {i}do{/i} have a heart. \" no \"It’s {i}because{/i} I have a heart that happened at all. If I were the emotionless heathen I’m made out to be, I never would have pried in the first place.\"”\n",
      "\n",
      "看起来这是两个人在对话，可能是在讨论角色是否应该告诉别人他们有感情，或者关于他们是否被诅咒。用户可能希望将这段对话翻译成中文，同时保持原有的语气和情感。\n",
      "\n",
      "接下来，我需要处理每个句子的翻译。比如，“My my.” 这是一个感叹词，可能表示惊讶或无奈，翻译成“我的天啊”比较合适。然后，“the class may be turning against me”需要准确表达“班级可能开始对我不满”或者“班级可能对我产生敌意”。\n",
      "\n",
      "接下来是Nodoka的话：“telling them would be a step in the right direction. It’s a chance to show everyone you {i}do{/i} have a heart.” 这里需要注意“{i}do{/i}”可能是一个格式错误，可能是“do”被错误地包裹在标签中，所以翻译时需要处理成“你有心”或者“你有爱”。\n",
      "\n",
      "然后是反对的回应：“It’s {i}because{/i} I have a heart that happened at all. If I were the emotionless heathen I’m made out to be, I never would have pried in the first place.” 这里的“{i}because{/i}”可能需要处理成“因为”或者“因为”来保持句子结构。同时，“emotionless heathen”翻译成“情感冷漠的野兽”比较合适。\n",
      "\n",
      "需要注意保持对话的连贯性和情感色彩，比如“cursed”翻译成“诅咒”或“诅咒的”，“step in the right direction”翻译成“迈出正确的一步”或者“正确方向”。\n",
      "\n",
      "另外，用户可能希望翻译后的中文保持口语化和自然，同时保留原文中的感叹和语气词。例如，“My my.”翻译成“我的天啊”比较符合中文的表达习惯。\n",
      "\n",
      "最后，检查整个翻译是否流畅，有没有遗漏或误译的地方，确保每个句子的意思都准确传达，同时保持对话的自然和情感。\n",
      "</think>\n",
      "\n",
      "\"我的天啊。看来这个班级可能开始对我产生敌意。这件衣服比我想的还要诅咒。\"  \n",
      "\"诺多卡……告诉他们会是正确的一步。这是一次向所有人展示你{i}有心{/i}的机会。\"  \n",
      "\"因为……我有心，这一切才发生。如果我是被称作情感冷漠的野兽，我绝不会一开始就去试探。\"\n"
     ]
    }
   ],
   "source": [
    "import warnings\n",
    "warnings.filterwarnings(\"ignore\", category=FutureWarning)\n",
    "\n",
    "from transformers import AutoModelForCausalLM, AutoTokenizer\n",
    "from CustomTextStreamer import CustomTextStreamer, generate_stream\n",
    "\n",
    "model_name = \"../dl_models/Qwen3-1.7B\"\n",
    "tokenizer = AutoTokenizer.from_pretrained(model_name)\n",
    "model = AutoModelForCausalLM.from_pretrained(model_name, torch_dtype=\"auto\", device_map=\"auto\")\n",
    "if tokenizer.pad_token is None:\n",
    "    tokenizer.pad_token = tokenizer.eos_token\n",
    "tokenizer.pad_token_id = tokenizer.eos_token_id\n",
    "\n",
    "initial_messages = []\n",
    "messages = initial_messages.copy()\n",
    "enable_thinking = True\n",
    "skip_prompt=True\n",
    "skip_special_tokens=True\n",
    "\n",
    "while True:\n",
    "    user_input = input(\"User: \").strip()\n",
    "    if user_input.lower() == \"/exit\":\n",
    "        print(\"Exiting chat.\")\n",
    "        break\n",
    "    if user_input.lower() == \"/clear\":\n",
    "        messages = initial_messages.copy()\n",
    "        print(\"Chat history cleared. Starting a new conversation.\")\n",
    "        continue\n",
    "    if user_input.lower() == \"/no_think\":\n",
    "        if enable_thinking:\n",
    "            enable_thinking = False\n",
    "            print(\"Thinking = False.\")\n",
    "        else:\n",
    "            enable_thinking = True\n",
    "            print(\"Thinking = True.\")\n",
    "        continue\n",
    "    if user_input.lower() == \"/skip_prompt\":\n",
    "        if skip_prompt:\n",
    "            skip_prompt = False\n",
    "            print(\"skip_prompt = False.\")\n",
    "        else:\n",
    "            skip_prompt = True\n",
    "            print(\"skip_prompt = True.\")\n",
    "        continue\n",
    "    if user_input.lower() == \"/skip_special_tokens\":\n",
    "        if skip_special_tokens:\n",
    "            skip_special_tokens = False\n",
    "            print(\"skip_special_tokens = False.\")\n",
    "        else:\n",
    "            skip_special_tokens = True\n",
    "            print(\"skip_special_tokens = True.\")\n",
    "        continue\n",
    "    if not user_input:\n",
    "        print(\"Input cannot be empty. Please enter something.\")\n",
    "        continue\n",
    "    messages.append({\"role\": \"user\", \"content\": user_input})\n",
    "    response, stop_flag = generate_stream(model, tokenizer, messages, enable_thinking, skip_prompt, skip_special_tokens, 8192)\n",
    "    print(\"\", flush=True)\n",
    "    if stop_flag:\n",
    "        continue\n",
    "    messages.append({\"role\": \"assistant\", \"content\": response})"
   ]
  },
  {
   "cell_type": "code",
   "execution_count": 2,
   "id": "376ef342",
   "metadata": {},
   "outputs": [],
   "source": [
    "exit(0)"
   ]
  },
  {
   "cell_type": "code",
   "execution_count": null,
   "id": "9a1bd7fd",
   "metadata": {},
   "outputs": [],
   "source": []
  },
  {
   "cell_type": "code",
   "execution_count": null,
   "id": "40814eaa",
   "metadata": {},
   "outputs": [],
   "source": []
  }
 ],
 "metadata": {
  "kernelspec": {
   "display_name": "Python 3 (ipykernel)",
   "language": "python",
   "name": "python3"
  },
  "language_info": {
   "codemirror_mode": {
    "name": "ipython",
    "version": 3
   },
   "file_extension": ".py",
   "mimetype": "text/x-python",
   "name": "python",
   "nbconvert_exporter": "python",
   "pygments_lexer": "ipython3",
   "version": "3.9.13"
  }
 },
 "nbformat": 4,
 "nbformat_minor": 5
}
